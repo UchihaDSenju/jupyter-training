{
 "cells": [
  {
   "cell_type": "markdown",
   "metadata": {},
   "source": [
    "# Demonstration of Notebook"
   ]
  },
  {
   "cell_type": "code",
   "execution_count": 2,
   "metadata": {},
   "outputs": [
    {
     "name": "stdout",
     "output_type": "stream",
     "text": [
      "Hello World\n"
     ]
    }
   ],
   "source": [
    "print(\"Hello World\")"
   ]
  },
  {
   "cell_type": "code",
   "execution_count": 2,
   "metadata": {},
   "outputs": [
    {
     "name": "stdout",
     "output_type": "stream",
     "text": [
      "This is a multi Line String\n",
      "That may come in handy\n",
      "50\n"
     ]
    }
   ],
   "source": [
    "demo=\"\"\"This is a multi Line String\n",
    "That may come in handy\"\"\"\n",
    "print(demo)\n",
    "print(len(demo))"
   ]
  },
  {
   "cell_type": "code",
   "execution_count": 8,
   "metadata": {},
   "outputs": [
    {
     "name": "stdout",
     "output_type": "stream",
     "text": [
      "(4, 5, 7)\n",
      "(5, 2, 3, 5, 6)\n",
      "4\n",
      "2\n"
     ]
    }
   ],
   "source": [
    "#Tuples\n",
    "a=4, 5, 7\n",
    "print(a)\n",
    "a=(5,2,3,5,6)\n",
    "print(a)\n",
    "print(a.index(6))\n",
    "print(a.count(5))"
   ]
  },
  {
   "cell_type": "code",
   "execution_count": 12,
   "metadata": {},
   "outputs": [
    {
     "name": "stdout",
     "output_type": "stream",
     "text": [
      "cse\n",
      "dict_keys(['name', 'age', 'class', 'nationality'])\n",
      "dict_values(['Tariq', '4565632', 'cse', 'Indian'])\n",
      "dict_items([('name', 'Tariq'), ('age', '4565632'), ('class', 'cse'), ('nationality', 'Indian')])\n",
      "4565632\n",
      "dict_items([('name', 'Tariq'), ('class', 'cse'), ('nationality', 'Indian')])\n",
      "dict_items([('name', 'Tariq'), ('class', 'cse'), ('nationality', 'Indian'), ('power', 'Full Haki')])\n"
     ]
    }
   ],
   "source": [
    "#Dictionaries\n",
    "dict={\n",
    "    'name':'Tariq',\n",
    "    'age':'4565632',\n",
    "    'class':'cse',\n",
    "    'nationality':'Indian'\n",
    "}\n",
    "print(dict['class'])\n",
    "print(dict.keys())\n",
    "print(dict.values())\n",
    "print(dict.items())\n",
    "print(dict.pop('age'))\n",
    "print(dict.items())\n",
    "dict.update({'power':'Full Haki'})\n",
    "print(dict.items())"
   ]
  },
  {
   "cell_type": "code",
   "execution_count": 13,
   "metadata": {},
   "outputs": [
    {
     "name": "stdout",
     "output_type": "stream",
     "text": [
      "olleH\n"
     ]
    }
   ],
   "source": [
    "string=\"Hello\"\n",
    "print(string[::-1])"
   ]
  },
  {
   "cell_type": "code",
   "execution_count": 1,
   "metadata": {},
   "outputs": [
    {
     "name": "stdout",
     "output_type": "stream",
     "text": [
      "7142.857142857143\n"
     ]
    }
   ],
   "source": [
    "# Demonstration of a function\n",
    "def emi(amount, duration):\n",
    "    emi=amount/duration\n",
    "    return emi\n",
    "amount=emi(50000, 7)\n",
    "print(amount)"
   ]
  },
  {
   "cell_type": "code",
   "execution_count": 5,
   "metadata": {},
   "outputs": [
    {
     "name": "stdout",
     "output_type": "stream",
     "text": [
      "Computing\n",
      "Executed Successfully\n"
     ]
    }
   ],
   "source": [
    "try:\n",
    "    print(\"Computing\")\n",
    "    a=5/1\n",
    "    print(\"Executed Successfully\")\n",
    "except ZeroDivisionError:\n",
    "    print(\"Error: A number is being divided by Zero\")"
   ]
  },
  {
   "cell_type": "code",
   "execution_count": 1,
   "metadata": {},
   "outputs": [
    {
     "name": "stdout",
     "output_type": "stream",
     "text": [
      "Help on function demo in module __main__:\n",
      "\n",
      "demo(string)\n",
      "    This is documentation\n",
      "\n"
     ]
    }
   ],
   "source": [
    "#Documentaion of the function\n",
    "def demo(string):\n",
    "    \"\"\"This is documentation\"\"\"\n",
    "\n",
    "help(demo)"
   ]
  },
  {
   "cell_type": "code",
   "execution_count": 6,
   "metadata": {},
   "outputs": [
    {
     "name": "stdout",
     "output_type": "stream",
     "text": [
      "non keyword arguments: \n",
      "h\n",
      "67\n",
      "Hello\n",
      "Keyworded Arguments\n",
      "name=Tariq\n",
      "year=3\n",
      "dept=CSE\n"
     ]
    }
   ],
   "source": [
    "#*args(non keyworded argument) and **kwargs(keyworded argument)\n",
    "\n",
    "#*argv\n",
    "def nkw_arg(*argv):\n",
    "    for arg in argv:\n",
    "        print(arg)\n",
    "\n",
    "#**kwargs\n",
    "def kw_arg(**kwargs):\n",
    "    for key,value in kwargs.items():\n",
    "        print(\"{}={}\".format(key,value))\n",
    "\n",
    "print(\"non keyword arguments: \")\n",
    "nkw_arg('h',67,\"Hello\")\n",
    "\n",
    "print(\"Keyworded Arguments\")\n",
    "kw_arg(name='Tariq', year=3, dept='CSE')\n"
   ]
  },
  {
   "cell_type": "markdown",
   "metadata": {},
   "source": [
    "### Question for the below answer will be posted here shortly"
   ]
  },
  {
   "cell_type": "code",
   "execution_count": 50,
   "metadata": {},
   "outputs": [
    {
     "name": "stdout",
     "output_type": "stream",
     "text": [
      "dict_items([('Paris', 420), ('London', 400), ('Dubai', 465), ('Mumbai', 530)])\n",
      "Depending on days of stay minimum expense city \n",
      "London 400\n",
      "dict_items([('Paris', 25), ('London', 25), ('Dubai', 42), ('Mumbai', 49)])\n",
      "city to visit to maximize duration for the given budget\n",
      "Mumbai 49\n",
      "city to visit to minimize duration for the given budget\n",
      "Paris 25\n"
     ]
    }
   ],
   "source": [
    "import math, sys\n",
    "#number of days cost\n",
    "def cost(planeCost, hotelCost, carRent, days, weeks):\n",
    "    costs=planeCost+((hotelCost)*days)+((carRent)*weeks)\n",
    "    return costs\n",
    "\n",
    "days=1\n",
    "weeks=math.ceil(days/7)\n",
    "\n",
    "cityCost={\n",
    "    'Paris' : cost(200, 20, 200, days, weeks),\n",
    "    'London' : cost(250, 30, 120, days, weeks),\n",
    "    'Dubai' : cost(370, 15, 80, days, weeks),\n",
    "    'Mumbai' : cost(450, 10, 70, days, weeks)\n",
    "}\n",
    "city=None\n",
    "cost=sys.maxsize\n",
    "for key in cityCost:\n",
    "    if(cityCost[key]<=cost):\n",
    "        cost=cityCost[key]\n",
    "        city=key\n",
    "print(cityCost.items())\n",
    "print(\"Depending on days of stay minimum expense city \")\n",
    "print(city, cost)\n",
    "\n",
    "def cost(planeCost, hotelCost, carRent, budget):\n",
    "    days=0\n",
    "    costs=0\n",
    "\n",
    "    while(costs<=budget):\n",
    "        days+=1\n",
    "        weeks=math.ceil(days/7)\n",
    "        costs=planeCost+((hotelCost)*days)+((carRent)*weeks)\n",
    "    return days-1\n",
    "\n",
    "budget=1500\n",
    "maxDurationCity=-(sys.maxsize)\n",
    "maxCity=None\n",
    "minDurationCity=sys.maxsize\n",
    "minCity=None\n",
    "cityCost={\n",
    "    'Paris' : cost(200, 20, 200, budget),\n",
    "    'London' : cost(250, 30, 120, budget),\n",
    "    'Dubai' : cost(370, 15, 80, budget),\n",
    "    'Mumbai' : cost(450, 10, 70, budget)\n",
    "}\n",
    "print(cityCost.items())\n",
    "for key in cityCost:\n",
    "    if(cityCost[key]>maxDurationCity):\n",
    "        maxDurationCity=cityCost[key]\n",
    "        maxCity=key\n",
    "    if(cityCost[key]<minDurationCity):\n",
    "        minDurationCity=cityCost[key]\n",
    "        minCity=key\n",
    "    \n",
    "print(\"city to visit to maximize duration for the given budget\")\n",
    "print(maxCity,maxDurationCity)\n",
    "print(\"city to visit to minimize duration for the given budget\")\n",
    "print(minCity,minDurationCity)\n",
    "        "
   ]
  }
 ],
 "metadata": {
  "kernelspec": {
   "display_name": "Python 3.9.5 64-bit",
   "language": "python",
   "name": "python3"
  },
  "language_info": {
   "codemirror_mode": {
    "name": "ipython",
    "version": 3
   },
   "file_extension": ".py",
   "mimetype": "text/x-python",
   "name": "python",
   "nbconvert_exporter": "python",
   "pygments_lexer": "ipython3",
   "version": "3.9.5"
  },
  "orig_nbformat": 4,
  "vscode": {
   "interpreter": {
    "hash": "9e6e1ff640901a8d180fb6cfe517ccc9652f79dbfaf22b2fb48c4557cb237760"
   }
  }
 },
 "nbformat": 4,
 "nbformat_minor": 2
}
